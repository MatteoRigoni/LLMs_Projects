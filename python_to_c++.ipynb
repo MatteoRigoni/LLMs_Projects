{
  "nbformat": 4,
  "nbformat_minor": 0,
  "metadata": {
    "colab": {
      "provenance": [],
      "authorship_tag": "ABX9TyNWnmbgE6Q0yKutJwgyXdKn",
      "include_colab_link": true
    },
    "kernelspec": {
      "name": "python3",
      "display_name": "Python 3"
    },
    "language_info": {
      "name": "python"
    }
  },
  "cells": [
    {
      "cell_type": "markdown",
      "metadata": {
        "id": "view-in-github",
        "colab_type": "text"
      },
      "source": [
        "<a href=\"https://colab.research.google.com/github/MatteoRigoni/LLMs_Projects/blob/master/python_to_c%2B%2B.ipynb\" target=\"_parent\"><img src=\"https://colab.research.google.com/assets/colab-badge.svg\" alt=\"Open In Colab\"/></a>"
      ]
    },
    {
      "cell_type": "code",
      "execution_count": null,
      "metadata": {
        "id": "s2dESF7Eebo-"
      },
      "outputs": [],
      "source": [
        "# imports\n",
        "\n",
        "import os\n",
        "import io\n",
        "import sys\n",
        "from dotenv import load_dotenv\n",
        "from openai import OpenAI\n",
        "import google.generativeai\n",
        "import anthropic\n",
        "from IPython.display import Markdown, display, update_display\n",
        "import gradio as gr\n",
        "import subprocess"
      ]
    },
    {
      "cell_type": "code",
      "source": [
        "# environment\n",
        "\n",
        "load_dotenv()\n",
        "os.environ['OPENAI_API_KEY'] = os.getenv('OPENAI_API_KEY', 'your-key-if-not-using-env')\n",
        "os.environ['ANTHROPIC_API_KEY'] = os.getenv('ANTHROPIC_API_KEY', 'your-key-if-not-using-env')"
      ],
      "metadata": {
        "id": "RvZewPmbetnF"
      },
      "execution_count": null,
      "outputs": []
    },
    {
      "cell_type": "code",
      "source": [
        "# initialize\n",
        "# NOTE - option to use ultra-low cost models by uncommenting last 2 lines\n",
        "\n",
        "openai = OpenAI()\n",
        "claude = anthropic.Anthropic()\n",
        "OPENAI_MODEL = \"gpt-4o\"\n",
        "CLAUDE_MODEL = \"claude-3-5-sonnet-20240620\"\n",
        "\n",
        "# Want to keep costs ultra-low? Uncomment these lines:\n",
        "# OPENAI_MODEL = \"gpt-4o-mini\"\n",
        "# CLAUDE_MODEL = \"claude-3-haiku-20240307\""
      ],
      "metadata": {
        "id": "psffjcPSevQB"
      },
      "execution_count": null,
      "outputs": []
    },
    {
      "cell_type": "code",
      "source": [
        "system_message = \"You are an assistant that reimplements Python code in high performance C++ for an M1 Mac. \"\n",
        "system_message += \"Respond only with C++ code; use comments sparingly and do not provide any explanation other than occasional comments. \"\n",
        "system_message += \"The C++ response needs to produce an identical output in the fastest possible time.\""
      ],
      "metadata": {
        "id": "YAaQjy92exLc"
      },
      "execution_count": null,
      "outputs": []
    },
    {
      "cell_type": "code",
      "source": [
        "def user_prompt_for(python):\n",
        "    user_prompt = \"Rewrite this Python code in C++ with the fastest possible implementation that produces identical output in the least time. \"\n",
        "    user_prompt += \"Respond only with C++ code; do not explain your work other than a few comments. \"\n",
        "    user_prompt += \"Pay attention to number types to ensure no int overflows. Remember to #include all necessary C++ packages such as iomanip.\\n\\n\"\n",
        "    user_prompt += python\n",
        "    return user_prompt"
      ],
      "metadata": {
        "id": "YbiZh_U_e6cD"
      },
      "execution_count": null,
      "outputs": []
    },
    {
      "cell_type": "code",
      "source": [
        "def messages_for(python):\n",
        "    return [\n",
        "        {\"role\": \"system\", \"content\": system_message},\n",
        "        {\"role\": \"user\", \"content\": user_prompt_for(python)}\n",
        "    ]"
      ],
      "metadata": {
        "id": "iGyQayoZe20Z"
      },
      "execution_count": null,
      "outputs": []
    },
    {
      "cell_type": "code",
      "source": [
        "# write to a file called optimized.cpp\n",
        "\n",
        "def write_output(cpp):\n",
        "    code = cpp.replace(\"```cpp\",\"\").replace(\"```\",\"\")\n",
        "    with open(\"optimized.cpp\", \"w\") as f:\n",
        "        f.write(code)"
      ],
      "metadata": {
        "id": "LRwaVkqCfAXw"
      },
      "execution_count": null,
      "outputs": []
    },
    {
      "cell_type": "code",
      "source": [
        "def optimize_gpt(python):\n",
        "    stream = openai.chat.completions.create(model=OPENAI_MODEL, messages=messages_for(python), stream=True)\n",
        "    reply = \"\"\n",
        "    for chunk in stream:\n",
        "        fragment = chunk.choices[0].delta.content or \"\"\n",
        "        reply += fragment\n",
        "        print(fragment, end='', flush=True)\n",
        "    write_output(reply)"
      ],
      "metadata": {
        "id": "inwheam0fCkJ"
      },
      "execution_count": null,
      "outputs": []
    },
    {
      "cell_type": "code",
      "source": [
        "def optimize_claude(python):\n",
        "    result = claude.messages.stream(\n",
        "        model=CLAUDE_MODEL,\n",
        "        max_tokens=2000,\n",
        "        system=system_message,\n",
        "        messages=[{\"role\": \"user\", \"content\": user_prompt_for(python)}],\n",
        "    )\n",
        "    reply = \"\"\n",
        "    with result as stream:\n",
        "        for text in stream.text_stream:\n",
        "            reply += text\n",
        "            print(text, end=\"\", flush=True)\n",
        "    write_output(reply)"
      ],
      "metadata": {
        "id": "aYzIVHmwfD1a"
      },
      "execution_count": null,
      "outputs": []
    },
    {
      "cell_type": "code",
      "source": [
        "pi = \"\"\"\n",
        "import time\n",
        "\n",
        "def calculate(iterations, param1, param2):\n",
        "    result = 1.0\n",
        "    for i in range(1, iterations+1):\n",
        "        j = i * param1 - param2\n",
        "        result -= (1/j)\n",
        "        j = i * param1 + param2\n",
        "        result += (1/j)\n",
        "    return result\n",
        "\n",
        "start_time = time.time()\n",
        "result = calculate(100_000_000, 4, 1) * 4\n",
        "end_time = time.time()\n",
        "\n",
        "print(f\"Result: {result:.12f}\")\n",
        "print(f\"Execution Time: {(end_time - start_time):.6f} seconds\")\n",
        "\"\"\""
      ],
      "metadata": {
        "id": "FNzIKLk_fFU_"
      },
      "execution_count": null,
      "outputs": []
    },
    {
      "cell_type": "code",
      "source": [
        "exec(pi)"
      ],
      "metadata": {
        "id": "fq_KY5oifG2M"
      },
      "execution_count": null,
      "outputs": []
    },
    {
      "cell_type": "code",
      "source": [
        "optimize_gpt(pi)"
      ],
      "metadata": {
        "id": "fqCcaiErfH59"
      },
      "execution_count": null,
      "outputs": []
    },
    {
      "cell_type": "code",
      "source": [
        "exec(pi)"
      ],
      "metadata": {
        "id": "a6lsNbAUfJOT"
      },
      "execution_count": null,
      "outputs": []
    },
    {
      "cell_type": "code",
      "source": [],
      "metadata": {
        "id": "kGSE1I7NfaTJ"
      },
      "execution_count": null,
      "outputs": []
    }
  ]
}