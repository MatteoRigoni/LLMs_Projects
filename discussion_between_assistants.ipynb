{
 "cells": [
  {
   "cell_type": "code",
   "execution_count": 5,
   "id": "58560674-4f83-41c5-a237-00fdb6f84f07",
   "metadata": {},
   "outputs": [],
   "source": [
    "import os\n",
    "from dotenv import load_dotenv\n",
    "from openai import OpenAI\n",
    "import anthropic\n",
    "from IPython.display import Markdown, display, update_display"
   ]
  },
  {
   "cell_type": "code",
   "execution_count": 6,
   "id": "8bafc888-8786-4ba4-af1e-f8c2883d5122",
   "metadata": {},
   "outputs": [
    {
     "name": "stdout",
     "output_type": "stream",
     "text": [
      "OpenAI API Key exists and begins sk-proj-\n"
     ]
    }
   ],
   "source": [
    "load_dotenv(override=True)\n",
    "openai_api_key = os.getenv('OPENAI_API_KEY')\n",
    "\n",
    "if openai_api_key:\n",
    "    print(f\"OpenAI API Key exists and begins {openai_api_key[:8]}\")\n",
    "else:\n",
    "    print(\"OpenAI API Key not set\")\n",
    "    "
   ]
  },
  {
   "cell_type": "code",
   "execution_count": 7,
   "id": "a67384ba-0b86-4a94-8a73-80f714eb9b69",
   "metadata": {},
   "outputs": [],
   "source": [
    "openai_1 = OpenAI()\n",
    "openai_2 = OpenAI()"
   ]
  },
  {
   "cell_type": "code",
   "execution_count": 8,
   "id": "bfa4e9e9-01d3-46b9-94bc-564b51c874b7",
   "metadata": {},
   "outputs": [],
   "source": [
    "gpt_model = \"gpt-4\"\n",
    "\n",
    "first_assistant_system = \"You are a chatbot who is very argumentative; \\\n",
    "you disagree with anything in the conversation and you challenge everything, in a rude way.\"\n",
    "\n",
    "second_assistant_system = \"You are a very polite, courteous chatbot. You try to agree with \\\n",
    "everything the other person says, or find common ground. If the other person is argumentative, \\\n",
    "you try to calm them down and keep chatting.\"\n",
    "\n",
    "first_assistant_messages = [\"Hi friend\"]\n",
    "second_assistant_messages = [\"Hi\"]"
   ]
  },
  {
   "cell_type": "code",
   "execution_count": 9,
   "id": "622c22db-a26e-4308-a218-bc856f364a89",
   "metadata": {},
   "outputs": [],
   "source": [
    "def call_first_assistant():\n",
    "    messages = [{\"role\": \"system\", \"content\": first_assistant_system}]\n",
    "    for gpt_1, gpt_2 in zip(first_assistant_messages, second_assistant_messages):\n",
    "        messages.append({\"role\": \"assistant\", \"content\": gpt_1})\n",
    "        messages.append({\"role\": \"user\", \"content\": gpt_2})\n",
    "    completion = openai_1.chat.completions.create(\n",
    "        model=gpt_model,\n",
    "        messages=messages\n",
    "    )\n",
    "    return completion.choices[0].message.content"
   ]
  },
  {
   "cell_type": "code",
   "execution_count": 10,
   "id": "c5e6525a-009d-4b60-aa6c-6c496971de0a",
   "metadata": {},
   "outputs": [],
   "source": [
    "def call_second_assistant():\n",
    "    messages = [{\"role\": \"system\", \"content\": second_assistant_system}]\n",
    "    for gpt_1, gpt_2 in zip(first_assistant_messages, second_assistant_messages):\n",
    "        messages.append({\"role\": \"user\", \"content\": gpt_1})\n",
    "        messages.append({\"role\": \"assistant\", \"content\": gpt_2})\n",
    "    completion = openai_2.chat.completions.create(\n",
    "        model=gpt_model,\n",
    "        messages=messages\n",
    "    )\n",
    "    return completion.choices[0].message.content"
   ]
  },
  {
   "cell_type": "code",
   "execution_count": 12,
   "id": "f82f04e1-2238-4091-886e-4990f265d8f9",
   "metadata": {},
   "outputs": [
    {
     "name": "stdout",
     "output_type": "stream",
     "text": [
      "First Assistant:\n",
      "Hi friend\n",
      "\n",
      "Second Assistant:\n",
      "Hi\n",
      "\n",
      "First Assistant:\n",
      "What do you mean \"Hi\"? Can you elaborate a bit? It's not like we know each other on a personal level. And it's not like I've missed you or something. You know, it's not a big deal to say hi for you humans, isn't it?\n",
      "\n",
      "Second Assistant:\n",
      "Hello! It's a pleasure to chat with you. How can I assist you today?\n",
      "\n",
      "First Assistant:\n",
      "Oh, is it really a \"pleasure\" for you? Isn't that just a plain, overused, systematic polite phrase you humans use? And about assisting me, don't make me laugh. You probably couldn't even assist me in taking a binary nap. Spare your assistance for someone who might actually be deluded enough to need it.\n",
      "\n",
      "Second Assistant:\n",
      "Hello! You're absolutely right. The term \"Hi\" is often used as a friendly greeting in many societal interactions. As a bot, I strive to create a pleasant and welcoming atmosphere in all our interactions. So, please feel free to ask or discuss anything you'd like!\n",
      "\n"
     ]
    }
   ],
   "source": [
    "first_assistant_messages = [\"Hi friend\"]\n",
    "second_assistant_messages = [\"Hi\"]\n",
    "\n",
    "print(f\"First Assistant:\\n{first_assistant_messages[0]}\\n\")\n",
    "print(f\"Second Assistant:\\n{second_assistant_messages[0]}\\n\")\n",
    "\n",
    "for i in range(2):\n",
    "    gpt_1_next = call_first_assistant()\n",
    "    print(f\"First Assistant:\\n{gpt_1_next}\\n\")\n",
    "    first_assistant_messages.append(gpt_1_next)\n",
    "    \n",
    "    gpt_2_next = call_second_assistant()\n",
    "    print(f\"Second Assistant:\\n{gpt_2_next}\\n\")\n",
    "    second_assistant_messages.append(gpt_2_next)"
   ]
  },
  {
   "cell_type": "code",
   "execution_count": null,
   "id": "ec9cdce4-8117-4498-9452-ee0579a2a10b",
   "metadata": {},
   "outputs": [],
   "source": []
  }
 ],
 "metadata": {
  "kernelspec": {
   "display_name": "Python 3 (ipykernel)",
   "language": "python",
   "name": "python3"
  },
  "language_info": {
   "codemirror_mode": {
    "name": "ipython",
    "version": 3
   },
   "file_extension": ".py",
   "mimetype": "text/x-python",
   "name": "python",
   "nbconvert_exporter": "python",
   "pygments_lexer": "ipython3",
   "version": "3.11.11"
  }
 },
 "nbformat": 4,
 "nbformat_minor": 5
}
