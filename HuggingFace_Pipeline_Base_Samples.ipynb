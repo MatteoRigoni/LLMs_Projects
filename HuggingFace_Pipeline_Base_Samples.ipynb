{
  "cells": [
    {
      "cell_type": "markdown",
      "metadata": {
        "id": "view-in-github",
        "colab_type": "text"
      },
      "source": [
        "<a href=\"https://colab.research.google.com/github/MatteoRigoni/LLMs_Projects/blob/master/HuggingFace_Pipeline_Base_Samples.ipynb\" target=\"_parent\"><img src=\"https://colab.research.google.com/assets/colab-badge.svg\" alt=\"Open In Colab\"/></a>"
      ]
    },
    {
      "cell_type": "code",
      "source": [
        "!pip install -q transformers datasets diffusers"
      ],
      "metadata": {
        "id": "rtvOqJ-FmKkO"
      },
      "execution_count": null,
      "outputs": []
    },
    {
      "cell_type": "code",
      "source": [
        "import torch\n",
        "from transformers import pipeline\n",
        "from diffusers import DiffusionPipeline\n",
        "from datasets import load_dataset\n",
        "import soundfile as f\n",
        "from IPython.display import Audio"
      ],
      "metadata": {
        "id": "LQHl_gRRnEoj"
      },
      "execution_count": null,
      "outputs": []
    },
    {
      "cell_type": "code",
      "source": [
        "#Sentiment Analysis\n",
        "classifier = pipeline(\"sentiment-analysis\") # default one\n",
        "result = classifier(\"I hate you\")\n",
        "print(result)"
      ],
      "metadata": {
        "id": "Ivz98l6snTlC"
      },
      "execution_count": null,
      "outputs": []
    },
    {
      "cell_type": "code",
      "source": [
        "#Named Entitiy Recognition\n",
        "ner_tagger = pipeline(\"ner\", grouped_entities=True)\n",
        "result = ner_tagger(\"My name is Sylvain and I work at Hugging Face in Brooklyn.\")\n",
        "print(result)"
      ],
      "metadata": {
        "id": "nleou3sWngHC"
      },
      "execution_count": null,
      "outputs": []
    },
    {
      "cell_type": "code",
      "source": [
        "#Question Answering with Context\n",
        "question_answerer = pipeline(\"question-answering\")\n",
        "result = question_answerer(\n",
        "    question=\"Where do I work?\",\n",
        "    context=\"My name is Sylvain and I work at Hugging Face in Brooklyn\",\n",
        ")\n",
        "print(result)"
      ],
      "metadata": {
        "id": "voVEKeVenr8h"
      },
      "execution_count": null,
      "outputs": []
    },
    {
      "cell_type": "code",
      "source": [
        "#Text Summaritation\n",
        "summarizer = pipeline(\"summarization\")\n",
        "text = \"\"\"In our modern, information-heavy world, processing large amounts of text efficiently is crucial. This AI-powered tool is specifically designed for professionals, students, and researchers who frequently need to extract key details from lengthy documents.\"\"\"\n",
        "result = summarizer(text)\n",
        "print(result)"
      ],
      "metadata": {
        "id": "-cvkq3RDoDby"
      },
      "execution_count": null,
      "outputs": []
    },
    {
      "cell_type": "code",
      "source": [
        "#Translation\n",
        "translator = pipeline(\"translation\", model=\"Helsinki-NLP/opus-mt-fr-en\")\n",
        "result = translator(\"Ce cours est produit par Hugging Face.\")\n",
        "print(result)"
      ],
      "metadata": {
        "id": "f3CmrKiRoVOn"
      },
      "execution_count": null,
      "outputs": []
    },
    {
      "cell_type": "code",
      "source": [
        "#Classification\n",
        "classifier = pipeline(\"zero-shot-classification\")\n",
        "result = classifier(\n",
        "    \"This is a course about the Transformers library\",\n",
        "    candidate_labels=[\"education\", \"politics\", \"business\"],\n",
        ")\n",
        "print(result)"
      ],
      "metadata": {
        "id": "2xJnFqTuodSM"
      },
      "execution_count": null,
      "outputs": []
    },
    {
      "cell_type": "code",
      "source": [
        "#Text Generation\n",
        "generator = pipeline(\"text-generation\")\n",
        "result = generator(\"In this course, we will teach you how to use pipeline\")\n",
        "print(result)"
      ],
      "metadata": {
        "id": "3kW90gvGotO4"
      },
      "execution_count": null,
      "outputs": []
    },
    {
      "cell_type": "code",
      "source": [
        "# Image Generation\n",
        "\n",
        "image_gen = DiffusionPipeline.from_pretrained(\n",
        "    \"stabilityai/stable-diffusion-2\",\n",
        "    torch_dtype=torch.float16,\n",
        "    use_safetensors=True,\n",
        "    variant=\"fp16\"\n",
        "    ).to(\"cuda\")\n",
        "\n",
        "text = \"A class of Data Scientists learning about AI, in the surreal style of Salvador Dali\"\n",
        "image = image_gen(prompt=text).images[0]\n",
        "image"
      ],
      "metadata": {
        "id": "IZWWN_QNo9ek"
      },
      "execution_count": null,
      "outputs": []
    },
    {
      "cell_type": "code",
      "source": [
        "# Audio Generation\n",
        "\n",
        "synthesiser = pipeline(\"text-to-speech\", \"microsoft/speecht5_tts\", device='cuda')\n",
        "\n",
        "embeddings_dataset = load_dataset(\"Matthijs/cmu-arctic-xvectors\", split=\"validation\")\n",
        "speaker_embedding = torch.tensor(embeddings_dataset[7306][\"xvector\"]).unsqueeze(0)\n",
        "\n",
        "speech = synthesiser(\"Hi to an artificial intelligence engineer, on the way to mastery!\", forward_params={\"speaker_embeddings\": speaker_embedding})\n",
        "\n",
        "sf.write(\"speech.wav\", speech[\"audio\"], samplerate=speech[\"sampling_rate\"])\n",
        "Audio(\"speech.wav\")"
      ],
      "metadata": {
        "id": "qcUpQBwvpSyG"
      },
      "execution_count": null,
      "outputs": []
    },
    {
      "cell_type": "code",
      "source": [],
      "metadata": {
        "id": "BOIcOqW0qDK9"
      },
      "execution_count": null,
      "outputs": []
    }
  ],
  "metadata": {
    "colab": {
      "provenance": [],
      "include_colab_link": true
    },
    "kernelspec": {
      "display_name": "Python 3",
      "name": "python3"
    }
  },
  "nbformat": 4,
  "nbformat_minor": 0
}